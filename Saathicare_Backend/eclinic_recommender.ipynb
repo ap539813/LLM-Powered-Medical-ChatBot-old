{
  "nbformat": 4,
  "nbformat_minor": 0,
  "metadata": {
    "colab": {
      "provenance": []
    },
    "kernelspec": {
      "name": "python3",
      "display_name": "Python 3"
    },
    "language_info": {
      "name": "python"
    }
  },
  "cells": [
    {
      "cell_type": "code",
      "source": [
        "!pip install geopy"
      ],
      "metadata": {
        "colab": {
          "base_uri": "https://localhost:8080/"
        },
        "id": "YvkHLMfQXA1U",
        "outputId": "06731b70-d0ce-4fad-9162-257888035252"
      },
      "execution_count": null,
      "outputs": [
        {
          "output_type": "stream",
          "name": "stdout",
          "text": [
            "Requirement already satisfied: geopy in /usr/local/lib/python3.10/dist-packages (2.3.0)\n",
            "Requirement already satisfied: geographiclib<3,>=1.52 in /usr/local/lib/python3.10/dist-packages (from geopy) (2.0)\n"
          ]
        }
      ]
    },
    {
      "cell_type": "code",
      "execution_count": null,
      "metadata": {
        "colab": {
          "base_uri": "https://localhost:8080/"
        },
        "id": "bEwnd7iUWzEr",
        "outputId": "ccc77450-9d1d-4a18-eb74-3557355c7f3a"
      },
      "outputs": [
        {
          "output_type": "stream",
          "name": "stdout",
          "text": [
            "(17.4355796, 78.346744)\n"
          ]
        }
      ],
      "source": [
        "from geopy.geocoders import Nominatim\n",
        "\n",
        "def get_lat_lon_geopy(address):\n",
        "    geolocator = Nominatim(user_agent=\"MyGeocoder\")\n",
        "    location = geolocator.geocode(address)\n",
        "    if location:\n",
        "        return (location.latitude, location.longitude)\n",
        "    return None\n",
        "\n",
        "# Example usage\n",
        "address = \"ISB, Gachibowli, Hyderabad\"\n",
        "coordinates = get_lat_lon_geopy(address)\n",
        "print(coordinates)\n"
      ]
    },
    {
      "cell_type": "code",
      "source": [
        "import pandas as pd\n",
        "from google.colab import drive\n",
        "\n",
        "drive.mount('/content/drive')\n",
        "\n",
        "\n"
      ],
      "metadata": {
        "colab": {
          "base_uri": "https://localhost:8080/"
        },
        "id": "Rx4WlLVXgW-w",
        "outputId": "dfa404a2-9f11-435d-b30d-a4c3b203b68c"
      },
      "execution_count": null,
      "outputs": [
        {
          "output_type": "stream",
          "name": "stdout",
          "text": [
            "Mounted at /content/drive\n"
          ]
        }
      ]
    },
    {
      "cell_type": "code",
      "source": [
        "# Adjust the path as necessary\n",
        "labels_path = '/content/drive/MyDrive/data/Curebay_clinics.csv'\n",
        "df = pd.read_csv(labels_path)"
      ],
      "metadata": {
        "id": "5sBqc3i-hhOr"
      },
      "execution_count": null,
      "outputs": []
    },
    {
      "cell_type": "code",
      "source": [
        "import googlemaps\n",
        "\n",
        "# Initialize your Google Maps client with your API key\n",
        "gmaps = googlemaps.Client(key='YOUR_API_KEY')"
      ],
      "metadata": {
        "id": "DhWdna7hiz-6"
      },
      "execution_count": null,
      "outputs": []
    },
    {
      "cell_type": "code",
      "source": [
        "import pandas as pd\n",
        "from geopy.geocoders import Nominatim\n",
        "from math import radians, cos, sin, sqrt, atan2\n",
        "\n",
        "# Function to calculate distance using Haversine formula\n",
        "def calculate_distance(lat1, lon1, lat2, lon2):\n",
        "    R = 6371  # Earth radius in kilometers\n",
        "    dLat = radians(lat2 - lat1)\n",
        "    dLon = radians(lon2 - lon1)\n",
        "    a = sin(dLat / 2) ** 2 + cos(radians(lat1)) * cos(radians(lat2)) * sin(dLon / 2) ** 2\n",
        "    c = 2 * atan2(sqrt(a), sqrt(1 - a))\n",
        "    distance = R * c\n",
        "    return distance\n",
        "\n",
        "# Function to find the nearest clinic\n",
        "def find_nearest_clinic(df, coordinates):\n",
        "    nearest_clinic = None\n",
        "    min_distance = float('inf')\n",
        "    for _, row in df.iterrows():\n",
        "        clinic_coords = (row[\"Latitude\"], row[\"Longitude\"])\n",
        "        distance = calculate_distance(coordinates[0], coordinates[1], clinic_coords[0], clinic_coords[1])\n",
        "        if distance < min_distance:\n",
        "            min_distance = distance\n",
        "            nearest_clinic = row[\"Address\"]\n",
        "    return nearest_clinic\n",
        "\n",
        "\n",
        "# Geocoding example address\n",
        "def get_lat_lon_geopy(address):\n",
        "    geolocator = Nominatim(user_agent=\"MyGeocoder\")\n",
        "    location = geolocator.geocode(address)\n",
        "    if location:\n",
        "        return (location.latitude, location.longitude)\n",
        "    return None\n",
        "\n"
      ],
      "metadata": {
        "id": "57NNoMhQYU7X"
      },
      "execution_count": null,
      "outputs": []
    },
    {
      "cell_type": "code",
      "source": [
        "# Example usage\n",
        "address = \"Puri Station Road, Puri, Odisha\"\n",
        "coordinates = get_lat_lon_geopy(address)\n",
        "print(f\"Coordinates for '{address}': {coordinates}\")\n",
        "\n",
        "if coordinates:\n",
        "    nearest_clinic_address = find_nearest_clinic(df, coordinates)\n",
        "    print(f\"The nearest e-clinic is at: {nearest_clinic_address}\")\n",
        "else:\n",
        "    print(\"Could not geocode the address.\")"
      ],
      "metadata": {
        "colab": {
          "base_uri": "https://localhost:8080/"
        },
        "id": "o4Vj9u3rhlPl",
        "outputId": "d9fa6ab1-022c-4a83-ff2b-711d389d8d9b"
      },
      "execution_count": null,
      "outputs": [
        {
          "output_type": "stream",
          "name": "stdout",
          "text": [
            "Coordinates for 'Puri Station Road, Puri, Odisha': (19.8079337, 85.8377905)\n",
            "The nearest e-clinic is at: Baseli Sahi 19, Puri\n"
          ]
        }
      ]
    },
    {
      "cell_type": "code",
      "source": [],
      "metadata": {
        "id": "vVY0RKPhYcl0"
      },
      "execution_count": null,
      "outputs": []
    },
    {
      "cell_type": "code",
      "source": [],
      "metadata": {
        "id": "6kvWMIP0Ycwx"
      },
      "execution_count": null,
      "outputs": []
    },
    {
      "cell_type": "code",
      "source": [],
      "metadata": {
        "id": "VCcQOo5oW0n9"
      },
      "execution_count": null,
      "outputs": []
    }
  ]
}