{
  "cells": [
    {
      "cell_type": "code",
      "execution_count": 1,
      "metadata": {
        "colab": {
          "base_uri": "https://localhost:8080/"
        },
        "id": "YvkHLMfQXA1U",
        "outputId": "06731b70-d0ce-4fad-9162-257888035252"
      },
      "outputs": [
        {
          "name": "stdout",
          "output_type": "stream",
          "text": [
            "Collecting geopy\n",
            "  Downloading geopy-2.4.1-py3-none-any.whl.metadata (6.8 kB)\n",
            "Collecting geographiclib<3,>=1.52 (from geopy)\n",
            "  Downloading geographiclib-2.0-py3-none-any.whl.metadata (1.4 kB)\n",
            "Downloading geopy-2.4.1-py3-none-any.whl (125 kB)\n",
            "\u001b[2K   \u001b[90m━━━━━━━━━━━━━━━━━━━━━━━━━━━━━━━━━━━━━━━━\u001b[0m \u001b[32m125.4/125.4 kB\u001b[0m \u001b[31m43.3 kB/s\u001b[0m eta \u001b[36m0:00:00\u001b[0ma \u001b[36m0:00:01\u001b[0m\n",
            "\u001b[?25hDownloading geographiclib-2.0-py3-none-any.whl (40 kB)\n",
            "\u001b[2K   \u001b[90m━━━━━━━━━━━━━━━━━━━━━━━━━━━━━━━━━━━━━━━━\u001b[0m \u001b[32m40.3/40.3 kB\u001b[0m \u001b[31m575.0 kB/s\u001b[0m eta \u001b[36m0:00:00\u001b[0ma \u001b[36m0:00:01\u001b[0m\n",
            "\u001b[?25hInstalling collected packages: geographiclib, geopy\n",
            "Successfully installed geographiclib-2.0 geopy-2.4.1\n"
          ]
        }
      ],
      "source": [
        "!pip install geopy"
      ]
    },
    {
      "cell_type": "code",
      "execution_count": 2,
      "metadata": {
        "colab": {
          "base_uri": "https://localhost:8080/"
        },
        "id": "bEwnd7iUWzEr",
        "outputId": "ccc77450-9d1d-4a18-eb74-3557355c7f3a"
      },
      "outputs": [
        {
          "name": "stdout",
          "output_type": "stream",
          "text": [
            "(17.4359142, 78.3467197)\n"
          ]
        }
      ],
      "source": [
        "from geopy.geocoders import Nominatim\n",
        "\n",
        "def get_lat_lon_geopy(address):\n",
        "    geolocator = Nominatim(user_agent=\"MyGeocoder\")\n",
        "    location = geolocator.geocode(address)\n",
        "    if location:\n",
        "        return (location.latitude, location.longitude)\n",
        "    return None\n",
        "\n",
        "# Example usage\n",
        "address = \"ISB, Gachibowli, Hyderabad\"\n",
        "coordinates = get_lat_lon_geopy(address)\n",
        "print(coordinates)\n"
      ]
    },
    {
      "cell_type": "code",
      "execution_count": 6,
      "metadata": {
        "colab": {
          "base_uri": "https://localhost:8080/"
        },
        "id": "Rx4WlLVXgW-w",
        "outputId": "dfa404a2-9f11-435d-b30d-a4c3b203b68c"
      },
      "outputs": [],
      "source": [
        "import pandas as pd\n",
        "# from google.colab import drive\n",
        "\n",
        "# drive.mount('/content/drive')\n",
        "\n",
        "\n"
      ]
    },
    {
      "cell_type": "code",
      "execution_count": 7,
      "metadata": {
        "id": "5sBqc3i-hhOr"
      },
      "outputs": [],
      "source": [
        "# Adjust the path as necessary\n",
        "labels_path = 'Curebay_clinics.csv'\n",
        "df = pd.read_csv(labels_path)"
      ]
    },
    {
      "cell_type": "code",
      "execution_count": 9,
      "metadata": {
        "id": "DhWdna7hiz-6"
      },
      "outputs": [],
      "source": [
        "# import googlemaps\n",
        "\n",
        "# # Initialize your Google Maps client with your API key\n",
        "# gmaps = googlemaps.Client(key='YOUR_API_KEY')"
      ]
    },
    {
      "cell_type": "code",
      "execution_count": 10,
      "metadata": {
        "id": "57NNoMhQYU7X"
      },
      "outputs": [],
      "source": [
        "import pandas as pd\n",
        "from geopy.geocoders import Nominatim\n",
        "from math import radians, cos, sin, sqrt, atan2\n",
        "\n",
        "# Function to calculate distance using Haversine formula\n",
        "def calculate_distance(lat1, lon1, lat2, lon2):\n",
        "    R = 6371  # Earth radius in kilometers\n",
        "    dLat = radians(lat2 - lat1)\n",
        "    dLon = radians(lon2 - lon1)\n",
        "    a = sin(dLat / 2) ** 2 + cos(radians(lat1)) * cos(radians(lat2)) * sin(dLon / 2) ** 2\n",
        "    c = 2 * atan2(sqrt(a), sqrt(1 - a))\n",
        "    distance = R * c\n",
        "    return distance\n",
        "\n",
        "# Function to find the nearest clinic\n",
        "def find_nearest_clinic(df, coordinates):\n",
        "    nearest_clinic = None\n",
        "    min_distance = float('inf')\n",
        "    for _, row in df.iterrows():\n",
        "        clinic_coords = (row[\"Latitude\"], row[\"Longitude\"])\n",
        "        distance = calculate_distance(coordinates[0], coordinates[1], clinic_coords[0], clinic_coords[1])\n",
        "        if distance < min_distance:\n",
        "            min_distance = distance\n",
        "            nearest_clinic = row[\"Address\"]\n",
        "    return nearest_clinic\n",
        "\n",
        "\n",
        "# Geocoding example address\n",
        "def get_lat_lon_geopy(address):\n",
        "    geolocator = Nominatim(user_agent=\"MyGeocoder\")\n",
        "    location = geolocator.geocode(address)\n",
        "    if location:\n",
        "        return (location.latitude, location.longitude)\n",
        "    return None\n",
        "\n"
      ]
    },
    {
      "cell_type": "code",
      "execution_count": 11,
      "metadata": {
        "colab": {
          "base_uri": "https://localhost:8080/"
        },
        "id": "o4Vj9u3rhlPl",
        "outputId": "d9fa6ab1-022c-4a83-ff2b-711d389d8d9b"
      },
      "outputs": [
        {
          "name": "stdout",
          "output_type": "stream",
          "text": [
            "Coordinates for 'Puri Station Road, Puri, Odisha': (19.8079337, 85.8377905)\n",
            "The nearest e-clinic is at: Baseli Sahi 19, Puri\n"
          ]
        }
      ],
      "source": [
        "# Example usage\n",
        "address = \"Puri Station Road, Puri, Odisha\"\n",
        "coordinates = get_lat_lon_geopy(address)\n",
        "print(f\"Coordinates for '{address}': {coordinates}\")\n",
        "\n",
        "if coordinates:\n",
        "    nearest_clinic_address = find_nearest_clinic(df, coordinates)\n",
        "    print(f\"The nearest e-clinic is at: {nearest_clinic_address}\")\n",
        "else:\n",
        "    print(\"Could not geocode the address.\")"
      ]
    },
    {
      "cell_type": "code",
      "execution_count": null,
      "metadata": {
        "id": "vVY0RKPhYcl0"
      },
      "outputs": [],
      "source": []
    },
    {
      "cell_type": "code",
      "execution_count": null,
      "metadata": {
        "id": "6kvWMIP0Ycwx"
      },
      "outputs": [],
      "source": []
    },
    {
      "cell_type": "code",
      "execution_count": null,
      "metadata": {
        "id": "VCcQOo5oW0n9"
      },
      "outputs": [],
      "source": []
    }
  ],
  "metadata": {
    "colab": {
      "provenance": []
    },
    "kernelspec": {
      "display_name": "Python 3",
      "name": "python3"
    },
    "language_info": {
      "codemirror_mode": {
        "name": "ipython",
        "version": 3
      },
      "file_extension": ".py",
      "mimetype": "text/x-python",
      "name": "python",
      "nbconvert_exporter": "python",
      "pygments_lexer": "ipython3",
      "version": "3.9.18"
    }
  },
  "nbformat": 4,
  "nbformat_minor": 0
}
