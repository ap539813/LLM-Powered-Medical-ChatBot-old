{
  "nbformat": 4,
  "nbformat_minor": 0,
  "metadata": {
    "colab": {
      "provenance": []
    },
    "kernelspec": {
      "name": "python3",
      "display_name": "Python 3"
    },
    "language_info": {
      "name": "python"
    }
  },
  "cells": [
    {
      "cell_type": "code",
      "execution_count": null,
      "metadata": {
        "colab": {
          "base_uri": "https://localhost:8080/"
        },
        "id": "-v3J3mm-ciyn",
        "outputId": "6a866952-7ddf-4b11-abfa-330fd42d86f7"
      },
      "outputs": [
        {
          "output_type": "stream",
          "name": "stdout",
          "text": [
            "Mounted at /content/drive\n"
          ]
        }
      ],
      "source": [
        "import pandas as pd\n",
        "from google.colab import drive\n",
        "\n",
        "drive.mount('/content/drive')\n",
        "\n",
        "# Adjust the path as necessary\n",
        "labels_path = '/content/drive/MyDrive/data/trainLabels.csv'\n",
        "labels_df = pd.read_csv(labels_path)\n"
      ]
    },
    {
      "cell_type": "code",
      "source": [
        "# Convert 'level' column to string to comply with 'class_mode=\"categorical\"'\n",
        "\n",
        "# Add '.jpeg' extension to the 'image' column in the dataframe\n",
        "labels_df['image'] = labels_df['image'].apply(lambda x: '{}.jpeg'.format(x))\n",
        "\n",
        "labels_df['level'] = labels_df['level'].astype(str)\n",
        "\n",
        "train_generator = train_datagen.flow_from_dataframe(\n",
        "    dataframe=labels_df,\n",
        "    directory=os.path.join(data_dir, 'train'),\n",
        "    x_col=\"image\",\n",
        "    y_col=\"level\",  # Ensure this is now a string\n",
        "    subset=\"training\",\n",
        "    batch_size=32,\n",
        "    seed=42,\n",
        "    shuffle=True,\n",
        "    class_mode=\"categorical\",\n",
        "    target_size=(256,256))\n",
        "\n",
        "validation_generator = train_datagen.flow_from_dataframe(\n",
        "    dataframe=labels_df,\n",
        "    directory=os.path.join(data_dir, 'train'),\n",
        "    x_col=\"image\",\n",
        "    y_col=\"level\",  # Ensure this is now a string\n",
        "    subset=\"validation\",\n",
        "    batch_size=32,\n",
        "    seed=42,\n",
        "    shuffle=True,\n",
        "    class_mode=\"categorical\",\n",
        "    target_size=(256,256))\n",
        "\n",
        "\n",
        "\n"
      ],
      "metadata": {
        "colab": {
          "base_uri": "https://localhost:8080/"
        },
        "id": "pyhikByLdf2t",
        "outputId": "029191d9-8564-43a8-90e3-cb24c0c7a4ca"
      },
      "execution_count": null,
      "outputs": [
        {
          "output_type": "stream",
          "name": "stdout",
          "text": [
            "Found 240 validated image filenames belonging to 5 classes.\n",
            "Found 60 validated image filenames belonging to 5 classes.\n"
          ]
        }
      ]
    },
    {
      "cell_type": "code",
      "source": [
        "#MODEL 1: Complex CNN"
      ],
      "metadata": {
        "id": "0LzuV_mylVJW"
      },
      "execution_count": null,
      "outputs": []
    },
    {
      "cell_type": "code",
      "source": [
        "from tensorflow.keras.models import Sequential\n",
        "from tensorflow.keras.layers import Conv2D, MaxPooling2D, Flatten, Dense, Dropout\n",
        "from tensorflow.keras.layers import BatchNormalization\n",
        "\n",
        "\n",
        "model1 = Sequential([\n",
        "    Conv2D(32, (3, 3), activation='relu', input_shape=(256, 256, 3)),\n",
        "    MaxPooling2D(2, 2),\n",
        "    BatchNormalization(),\n",
        "\n",
        "    Conv2D(64, (3, 3), activation='relu'),\n",
        "    MaxPooling2D(2,2),\n",
        "    BatchNormalization(),\n",
        "\n",
        "    Conv2D(128, (3, 3), activation='relu'),\n",
        "    MaxPooling2D(2,2),\n",
        "    BatchNormalization(),\n",
        "\n",
        "    Flatten(),\n",
        "    Dense(512, activation='relu'),\n",
        "    Dropout(0.5),\n",
        "    BatchNormalization(),\n",
        "\n",
        "    Dense(5, activation='softmax')  # Assuming 5 classes\n",
        "])\n",
        "\n",
        "model1.compile(optimizer='adam', loss='categorical_crossentropy', metrics=['accuracy'])\n"
      ],
      "metadata": {
        "id": "UvrAZEwOlVNB"
      },
      "execution_count": null,
      "outputs": []
    },
    {
      "cell_type": "code",
      "source": [
        "#MODEL 2: INCEPTION V3"
      ],
      "metadata": {
        "id": "hp9n0P06c4cI"
      },
      "execution_count": null,
      "outputs": []
    },
    {
      "cell_type": "code",
      "source": [
        "from tensorflow.keras.applications import InceptionV3\n",
        "\n",
        "base_model_inception = InceptionV3(weights='imagenet', include_top=False, input_shape=(256, 256, 3))\n",
        "base_model_inception.trainable = False\n",
        "\n",
        "model2 = Sequential([\n",
        "    base_model_inception,\n",
        "    GlobalAveragePooling2D(),\n",
        "    Dense(1024, activation='relu'),\n",
        "    Dropout(0.5),\n",
        "    Dense(5, activation='softmax')  # Assuming 5 classes\n",
        "])\n",
        "\n",
        "model2.compile(optimizer='adam', loss='categorical_crossentropy', metrics=['accuracy'])\n",
        "\n"
      ],
      "metadata": {
        "id": "b5cmjSQplx--"
      },
      "execution_count": null,
      "outputs": []
    },
    {
      "cell_type": "code",
      "source": [
        "#MODEL 3: RESNET"
      ],
      "metadata": {
        "id": "6o2KjrAXlyCK"
      },
      "execution_count": null,
      "outputs": []
    },
    {
      "cell_type": "code",
      "source": [
        "from tensorflow.keras.applications import ResNet50\n",
        "\n",
        "base_model_resnet = ResNet50(weights='imagenet', include_top=False, input_shape=(256, 256, 3))\n",
        "base_model_resnet.trainable = False\n",
        "\n",
        "model3 = Sequential([\n",
        "    base_model_resnet,\n",
        "    GlobalAveragePooling2D(),\n",
        "    Dense(1024, activation='relu'),\n",
        "    Dropout(0.5),\n",
        "    Dense(5, activation='softmax')  # Assuming 5 classes\n",
        "])\n",
        "\n",
        "model3.compile(optimizer='adam', loss='categorical_crossentropy', metrics=['accuracy'])\n"
      ],
      "metadata": {
        "id": "jat-ySFylyFo"
      },
      "execution_count": null,
      "outputs": []
    },
    {
      "cell_type": "code",
      "source": [],
      "metadata": {
        "id": "s2VzzFtkmI5M"
      },
      "execution_count": null,
      "outputs": []
    },
    {
      "cell_type": "code",
      "source": [
        "# Train Model 1\n",
        "history1 = model1.fit(train_generator, epochs=5, validation_data=validation_generator)\n",
        "\n",
        "# Train Model 2\n",
        "history2 = model2.fit(train_generator, epochs=5, validation_data=validation_generator)\n",
        "\n",
        "# Train Model 3\n",
        "history3 = model3.fit(train_generator, epochs=5, validation_data=validation_generator)\n"
      ],
      "metadata": {
        "colab": {
          "base_uri": "https://localhost:8080/"
        },
        "id": "6GF28pJomI8I",
        "outputId": "fe303064-fe63-4449-ffdd-3457bcac2870"
      },
      "execution_count": null,
      "outputs": [
        {
          "output_type": "stream",
          "name": "stdout",
          "text": [
            "Epoch 1/5\n",
            "8/8 [==============================] - 72s 8s/step - loss: 2.2990 - accuracy: 0.3000 - val_loss: 1.5326 - val_accuracy: 0.1500\n",
            "Epoch 2/5\n",
            "8/8 [==============================] - 71s 8s/step - loss: 1.8781 - accuracy: 0.2583 - val_loss: 1.5265 - val_accuracy: 0.1000\n",
            "Epoch 3/5\n",
            "8/8 [==============================] - 70s 8s/step - loss: 1.5849 - accuracy: 0.3458 - val_loss: 1.5191 - val_accuracy: 0.1667\n",
            "Epoch 4/5\n",
            "8/8 [==============================] - 70s 8s/step - loss: 1.4507 - accuracy: 0.4500 - val_loss: 1.4489 - val_accuracy: 0.1667\n",
            "Epoch 5/5\n",
            "8/8 [==============================] - 66s 9s/step - loss: 1.2898 - accuracy: 0.4625 - val_loss: 1.4406 - val_accuracy: 0.1333\n",
            "Epoch 1/5\n",
            "8/8 [==============================] - 84s 10s/step - loss: 2.3774 - accuracy: 0.5458 - val_loss: 1.4236 - val_accuracy: 0.8000\n",
            "Epoch 2/5\n",
            "8/8 [==============================] - 74s 9s/step - loss: 1.4631 - accuracy: 0.7083 - val_loss: 0.9131 - val_accuracy: 0.7500\n",
            "Epoch 3/5\n",
            "8/8 [==============================] - 65s 8s/step - loss: 1.2418 - accuracy: 0.7417 - val_loss: 0.9784 - val_accuracy: 0.7167\n",
            "Epoch 4/5\n",
            "8/8 [==============================] - 74s 10s/step - loss: 0.9114 - accuracy: 0.7042 - val_loss: 0.8385 - val_accuracy: 0.8000\n",
            "Epoch 5/5\n",
            "8/8 [==============================] - 69s 8s/step - loss: 0.7376 - accuracy: 0.7417 - val_loss: 0.8330 - val_accuracy: 0.7000\n",
            "Epoch 1/5\n",
            "8/8 [==============================] - 75s 9s/step - loss: 2.2137 - accuracy: 0.5917 - val_loss: 1.8525 - val_accuracy: 0.8000\n",
            "Epoch 2/5\n",
            "8/8 [==============================] - 67s 8s/step - loss: 1.9883 - accuracy: 0.6708 - val_loss: 1.1798 - val_accuracy: 0.6500\n",
            "Epoch 3/5\n",
            "8/8 [==============================] - 66s 9s/step - loss: 1.2850 - accuracy: 0.6750 - val_loss: 1.0554 - val_accuracy: 0.8000\n",
            "Epoch 4/5\n",
            "8/8 [==============================] - 72s 9s/step - loss: 0.9061 - accuracy: 0.7292 - val_loss: 0.7214 - val_accuracy: 0.8167\n",
            "Epoch 5/5\n",
            "8/8 [==============================] - 67s 8s/step - loss: 0.7456 - accuracy: 0.7625 - val_loss: 0.7526 - val_accuracy: 0.8000\n"
          ]
        }
      ]
    },
    {
      "cell_type": "code",
      "source": [
        "import matplotlib.pyplot as plt"
      ],
      "metadata": {
        "id": "8J0tUQR1mI_V"
      },
      "execution_count": null,
      "outputs": []
    },
    {
      "cell_type": "code",
      "source": [
        "plt.figure(figsize=(10, 8))\n",
        "plt.plot(history1.history['val_accuracy'], label='Complex CNN (Model 1)')\n",
        "plt.plot(history2.history['val_accuracy'], label='InceptionV3 (Model 2)')\n",
        "plt.plot(history3.history['val_accuracy'], label='ResNet50 (Model 3)')\n",
        "plt.title('Validation Accuracy Comparison')\n",
        "plt.xlabel('Epoch')\n",
        "plt.ylabel('Accuracy')\n",
        "plt.legend()\n",
        "plt.show()\n"
      ],
      "metadata": {
        "colab": {
          "base_uri": "https://localhost:8080/",
          "height": 718
        },
        "id": "ag57H2FnmJCW",
        "outputId": "3a0f04c6-adf6-4483-edd6-13b4da606d2d"
      },
      "execution_count": null,
      "outputs": [
        {
          "output_type": "display_data",
          "data": {
            "text/plain": [
              "<Figure size 1000x800 with 1 Axes>"
            ],
            "image/png": "[encoded data removed]"
          },
          "metadata": {}
        }
      ]
    },
    {
      "cell_type": "code",
      "source": [
        "# Get the last validation accuracy for each model\n",
        "val_acc_model1 = history1.history['val_accuracy'][-1]\n",
        "val_acc_model2 = history2.history['val_accuracy'][-1]\n",
        "val_acc_model3 = history3.history['val_accuracy'][-1]\n",
        "\n",
        "# Compare accuracies and determine the best model\n",
        "best_acc = max(val_acc_model1, val_acc_model2, val_acc_model3)\n",
        "best_model = ''\n",
        "if best_acc == val_acc_model1:\n",
        "    best_model = 'Complex CNN'\n",
        "elif best_acc == val_acc_model2:\n",
        "    best_model = 'InceptionV3'\n",
        "elif best_acc == val_acc_model3:\n",
        "    best_model = 'ResNet50'\n",
        "\n",
        "print(f\"The best model based on validation accuracy is: {best_model} with an accuracy of {best_acc:.2f}\")\n"
      ],
      "metadata": {
        "colab": {
          "base_uri": "https://localhost:8080/"
        },
        "id": "dWEy-ZrllyIm",
        "outputId": "9b6c9d21-21d7-4d05-b103-3b12be104d95"
      },
      "execution_count": null,
      "outputs": [
        {
          "output_type": "stream",
          "name": "stdout",
          "text": [
            "The best model based on validation accuracy is: ResNet50 with an accuracy of 0.80\n"
          ]
        }
      ]
    },
    {
      "cell_type": "code",
      "source": [],
      "metadata": {
        "id": "OEPdGtLkkSUI"
      },
      "execution_count": null,
      "outputs": []
    },
    {
      "cell_type": "code",
      "source": [
        "model3.save('/content/drive/MyDrive/best_diabetic_retinopathy_model.h5')\n"
      ],
      "metadata": {
        "colab": {
          "base_uri": "https://localhost:8080/"
        },
        "id": "Vf7S2GMYkSXo",
        "outputId": "c39c6426-8273-4d7b-863c-97cca6c26c7f"
      },
      "execution_count": null,
      "outputs": [
        {
          "output_type": "stream",
          "name": "stderr",
          "text": [
            "/usr/local/lib/python3.10/dist-packages/keras/src/engine/training.py:3103: UserWarning: You are saving your model as an HDF5 file via `model.save()`. This file format is considered legacy. We recommend using instead the native Keras format, e.g. `model.save('my_model.keras')`.\n",
            "  saving_api.save_model(\n"
          ]
        }
      ]
    },
    {
      "cell_type": "code",
      "source": [],
      "metadata": {
        "id": "-6UJqJGEa-1S"
      },
      "execution_count": null,
      "outputs": []
    },
    {
      "cell_type": "code",
      "source": [],
      "metadata": {
        "id": "1md_5JH0a-3n"
      },
      "execution_count": null,
      "outputs": []
    },
    {
      "cell_type": "code",
      "source": [
        "#FRONTEND PART"
      ],
      "metadata": {
        "id": "DyQ2LkMCa-7L"
      },
      "execution_count": null,
      "outputs": []
    },
    {
      "cell_type": "code",
      "source": [
        "from google.colab import files\n",
        "\n",
        "uploaded = files.upload()\n",
        "\n",
        "# The uploaded image's path will be the same as its name if you're uploading a single file\n",
        "uploaded_image_path = list(uploaded.keys())[0]\n",
        "\n"
      ],
      "metadata": {
        "colab": {
          "base_uri": "https://localhost:8080/",
          "height": 74
        },
        "id": "ilODr752orsw",
        "outputId": "1d810f3e-6089-45ae-d5e5-26b1201735ee"
      },
      "execution_count": null,
      "outputs": [
        {
          "output_type": "display_data",
          "data": {
            "text/plain": [
              "<IPython.core.display.HTML object>"
            ],
            "text/html": [
              "\n",
              "     <input type=\"file\" id=\"files-6a04d07a-08cf-465f-9a2b-ebbfeec4698c\" name=\"files[]\" multiple disabled\n",
              "        style=\"border:none\" />\n",
              "     <output id=\"result-6a04d07a-08cf-465f-9a2b-ebbfeec4698c\">\n",
              "      Upload widget is only available when the cell has been executed in the\n",
              "      current browser session. Please rerun this cell to enable.\n",
              "      </output>\n",
              "      <script>// Copyright 2017 Google LLC\n",
              "//\n",
              "// Licensed under the Apache License, Version 2.0 (the \"License\");\n",
              "// you may not use this file except in compliance with the License.\n",
              "// You may obtain a copy of the License at\n",
              "//\n",
              "//      http://www.apache.org/licenses/LICENSE-2.0\n",
              "//\n",
              "// Unless required by applicable law or agreed to in writing, software\n",
              "// distributed under the License is distributed on an \"AS IS\" BASIS,\n",
              "// WITHOUT WARRANTIES OR CONDITIONS OF ANY KIND, either express or implied.\n",
              "// See the License for the specific language governing permissions and\n",
              "// limitations under the License.\n",
              "\n",
              "/**\n",
              " * @fileoverview Helpers for google.colab Python module.\n",
              " */\n",
              "(function(scope) {\n",
              "function span(text, styleAttributes = {}) {\n",
              "  const element = document.createElement('span');\n",
              "  element.textContent = text;\n",
              "  for (const key of Object.keys(styleAttributes)) {\n",
              "    element.style[key] = styleAttributes[key];\n",
              "  }\n",
              "  return element;\n",
              "}\n",
              "\n",
              "// Max number of bytes which will be uploaded at a time.\n",
              "const MAX_PAYLOAD_SIZE = 100 * 1024;\n",
              "\n",
              "function _uploadFiles(inputId, outputId) {\n",
              "  const steps = uploadFilesStep(inputId, outputId);\n",
              "  const outputElement = document.getElementById(outputId);\n",
              "  // Cache steps on the outputElement to make it available for the next call\n",
              "  // to uploadFilesContinue from Python.\n",
              "  outputElement.steps = steps;\n",
              "\n",
              "  return _uploadFilesContinue(outputId);\n",
              "}\n",
              "\n",
              "// This is roughly an async generator (not supported in the browser yet),\n",
              "// where there are multiple asynchronous steps and the Python side is going\n",
              "// to poll for completion of each step.\n",
              "// This uses a Promise to block the python side on completion of each step,\n",
              "// then passes the result of the previous step as the input to the next step.\n",
              "function _uploadFilesContinue(outputId) {\n",
              "  const outputElement = document.getElementById(outputId);\n",
              "  const steps = outputElement.steps;\n",
              "\n",
              "  const next = steps.next(outputElement.lastPromiseValue);\n",
              "  return Promise.resolve(next.value.promise).then((value) => {\n",
              "    // Cache the last promise value to make it available to the next\n",
              "    // step of the generator.\n",
              "    outputElement.lastPromiseValue = value;\n",
              "    return next.value.response;\n",
              "  });\n",
              "}\n",
              "\n",
              "/**\n",
              " * Generator function which is called between each async step of the upload\n",
              " * process.\n",
              " * @param {string} inputId Element ID of the input file picker element.\n",
              " * @param {string} outputId Element ID of the output display.\n",
              " * @return {!Iterable<!Object>} Iterable of next steps.\n",
              " */\n",
              "function* uploadFilesStep(inputId, outputId) {\n",
              "  const inputElement = document.getElementById(inputId);\n",
              "  inputElement.disabled = false;\n",
              "\n",
              "  const outputElement = document.getElementById(outputId);\n",
              "  outputElement.innerHTML = '';\n",
              "\n",
              "  const pickedPromise = new Promise((resolve) => {\n",
              "    inputElement.addEventListener('change', (e) => {\n",
              "      resolve(e.target.files);\n",
              "    });\n",
              "  });\n",
              "\n",
              "  const cancel = document.createElement('button');\n",
              "  inputElement.parentElement.appendChild(cancel);\n",
              "  cancel.textContent = 'Cancel upload';\n",
              "  const cancelPromise = new Promise((resolve) => {\n",
              "    cancel.onclick = () => {\n",
              "      resolve(null);\n",
              "    };\n",
              "  });\n",
              "\n",
              "  // Wait for the user to pick the files.\n",
              "  const files = yield {\n",
              "    promise: Promise.race([pickedPromise, cancelPromise]),\n",
              "    response: {\n",
              "      action: 'starting',\n",
              "    }\n",
              "  };\n",
              "\n",
              "  cancel.remove();\n",
              "\n",
              "  // Disable the input element since further picks are not allowed.\n",
              "  inputElement.disabled = true;\n",
              "\n",
              "  if (!files) {\n",
              "    return {\n",
              "      response: {\n",
              "        action: 'complete',\n",
              "      }\n",
              "    };\n",
              "  }\n",
              "\n",
              "  for (const file of files) {\n",
              "    const li = document.createElement('li');\n",
              "    li.append(span(file.name, {fontWeight: 'bold'}));\n",
              "    li.append(span(\n",
              "        `(${file.type || 'n/a'}) - ${file.size} bytes, ` +\n",
              "        `last modified: ${\n",
              "            file.lastModifiedDate ? file.lastModifiedDate.toLocaleDateString() :\n",
              "                                    'n/a'} - `));\n",
              "    const percent = span('0% done');\n",
              "    li.appendChild(percent);\n",
              "\n",
              "    outputElement.appendChild(li);\n",
              "\n",
              "    const fileDataPromise = new Promise((resolve) => {\n",
              "      const reader = new FileReader();\n",
              "      reader.onload = (e) => {\n",
              "        resolve(e.target.result);\n",
              "      };\n",
              "      reader.readAsArrayBuffer(file);\n",
              "    });\n",
              "    // Wait for the data to be ready.\n",
              "    let fileData = yield {\n",
              "      promise: fileDataPromise,\n",
              "      response: {\n",
              "        action: 'continue',\n",
              "      }\n",
              "    };\n",
              "\n",
              "    // Use a chunked sending to avoid message size limits. See b/62115660.\n",
              "    let position = 0;\n",
              "    do {\n",
              "      const length = Math.min(fileData.byteLength - position, MAX_PAYLOAD_SIZE);\n",
              "      const chunk = new Uint8Array(fileData, position, length);\n",
              "      position += length;\n",
              "\n",
              "      const base64 = btoa(String.fromCharCode.apply(null, chunk));\n",
              "      yield {\n",
              "        response: {\n",
              "          action: 'append',\n",
              "          file: file.name,\n",
              "          data: base64,\n",
              "        },\n",
              "      };\n",
              "\n",
              "      let percentDone = fileData.byteLength === 0 ?\n",
              "          100 :\n",
              "          Math.round((position / fileData.byteLength) * 100);\n",
              "      percent.textContent = `${percentDone}% done`;\n",
              "\n",
              "    } while (position < fileData.byteLength);\n",
              "  }\n",
              "\n",
              "  // All done.\n",
              "  yield {\n",
              "    response: {\n",
              "      action: 'complete',\n",
              "    }\n",
              "  };\n",
              "}\n",
              "\n",
              "scope.google = scope.google || {};\n",
              "scope.google.colab = scope.google.colab || {};\n",
              "scope.google.colab._files = {\n",
              "  _uploadFiles,\n",
              "  _uploadFilesContinue,\n",
              "};\n",
              "})(self);\n",
              "</script> "
            ]
          },
          "metadata": {}
        },
        {
          "output_type": "stream",
          "name": "stdout",
          "text": [
            "Saving 8_right.jpeg to 8_right.jpeg\n"
          ]
        }
      ]
    },
    {
      "cell_type": "code",
      "source": [
        "from tensorflow.keras.preprocessing import image\n",
        "import numpy as np\n",
        "from tensorflow.keras.models import load_model\n",
        "\n",
        "# Load the best model\n",
        "best_model = load_model('/content/drive/MyDrive/best_diabetic_retinopathy_model.h5')\n",
        "\n",
        "# Assuming an image has been uploaded to Colab using the file uploader\n",
        "#uploaded_image_path = '/path/to/uploaded/image.jpeg'  # Update this path to the uploaded image\n",
        "\n",
        "# Preprocess the image\n",
        "img = image.load_img(uploaded_image_path, target_size=(256, 256))\n",
        "img_array = image.img_to_array(img)\n",
        "img_batch = np.expand_dims(img_array, axis=0)\n",
        "img_preprocessed = img_batch / 255.0\n",
        "\n",
        "# Make a prediction\n",
        "prediction = best_model.predict(img_preprocessed)\n",
        "predicted_class = np.argmax(prediction, axis=1)\n",
        "\n",
        "# Map the prediction to the respective category\n",
        "diabetic_retinopathy_classes = {\n",
        "    0: 'No Diabetic Retinopathy',\n",
        "    1: 'Mild',\n",
        "    2: 'Moderate',\n",
        "    3: 'Severe',\n",
        "    4: 'Proliferative Diabetic Retinopathy'\n",
        "}\n",
        "\n",
        "predicted_category = diabetic_retinopathy_classes[predicted_class[0]]\n",
        "print(f\"Predicted class: {predicted_class[0]} - {predicted_category}\")\n"
      ],
      "metadata": {
        "colab": {
          "base_uri": "https://localhost:8080/"
        },
        "id": "lrtdlKEokSbY",
        "outputId": "dc1230f3-d0f4-453f-88cd-359cffcb65a1"
      },
      "execution_count": null,
      "outputs": [
        {
          "output_type": "stream",
          "name": "stdout",
          "text": [
            "1/1 [==============================] - 2s 2s/step\n",
            "Predicted class: 0 - No Diabetic Retinopathy\n"
          ]
        }
      ]
    },
    {
      "cell_type": "code",
      "source": [],
      "metadata": {
        "id": "ChMIUU02kSeo"
      },
      "execution_count": null,
      "outputs": []
    },
    {
      "cell_type": "code",
      "source": [
        "from tensorflow.keras.applications import EfficientNetB0\n",
        "\n",
        "base_model_efficientnet = EfficientNetB0(input_shape=(256, 256, 3), include_top=False, weights='imagenet')\n",
        "base_model_efficientnet.trainable = False  # Freeze the base model\n",
        "\n",
        "model4 = Sequential([\n",
        "    base_model_efficientnet,\n",
        "    GlobalAveragePooling2D(),\n",
        "    Dense(1024, activation='relu'),\n",
        "    Dropout(0.5),\n",
        "    Dense(5, activation='softmax')  # Number of classes for Diabetic Retinopathy\n",
        "])\n",
        "\n",
        "model4.compile(optimizer='adam', loss='categorical_crossentropy', metrics=['accuracy'])\n"
      ],
      "metadata": {
        "id": "HqgWveaQrvt6"
      },
      "execution_count": null,
      "outputs": []
    },
    {
      "cell_type": "code",
      "source": [
        "history4 = model4.fit(train_generator, epochs=5, validation_data=validation_generator)\n"
      ],
      "metadata": {
        "id": "dltKtKzHrvxg"
      },
      "execution_count": null,
      "outputs": []
    },
    {
      "cell_type": "code",
      "source": [],
      "metadata": {
        "id": "QaIM4MjTrv0z"
      },
      "execution_count": null,
      "outputs": []
    }
  ]
}